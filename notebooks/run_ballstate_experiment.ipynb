{
 "cells": [
  {
   "cell_type": "code",
   "execution_count": null,
   "id": "b58fe1d1",
   "metadata": {},
   "outputs": [],
   "source": [
    "%load_ext autoreload\n",
    "%autoreload 2\n",
    "import dotenv\n",
    "dotenv.load_dotenv()"
   ]
  },
  {
   "cell_type": "markdown",
   "id": "693a6e43",
   "metadata": {},
   "source": [
    "# Load trainer"
   ]
  },
  {
   "cell_type": "code",
   "execution_count": null,
   "id": "several-arthur",
   "metadata": {},
   "outputs": [],
   "source": [
    "from experimentator import build_experiment, find\n",
    "\n",
    "exp = build_experiment(find(\"../configs/ballstate.py\"), load_weights=False)"
   ]
  },
  {
   "cell_type": "markdown",
   "id": "exempt-turtle",
   "metadata": {},
   "source": [
    "# Show dataset"
   ]
  },
  {
   "cell_type": "code",
   "execution_count": null,
   "id": "straight-liability",
   "metadata": {},
   "outputs": [],
   "source": [
    "from matplotlib import pyplot as plt \n",
    "from dataset_utilities.ds.raw_sequences_dataset import BallState\n",
    "\n",
    "batch_size = 7\n",
    "fig, axes = plt.subplots(len(exp.subsets), batch_size, figsize=(20,9))\n",
    "for i, subset in enumerate(exp.subsets):\n",
    "    keys, batch = next(exp.batch_generator(subset, batch_size=batch_size)) # balances batches wrt ball state\n",
    "    for j, key in enumerate(keys):\n",
    "        axes[i,j].imshow(batch[\"batch_input_image\"][j])\n",
    "        #axes[i,j].axis(\"off\")\n",
    "        axes[i,j].set_xticks([])\n",
    "        axes[i,j].set_yticks([])\n",
    "        axes[i,j].set_title(BallState(batch['batch_ball_state'][j]))\n",
    "    axes[i,0].set_ylabel(subset.name)"
   ]
  },
  {
   "cell_type": "markdown",
   "id": "further-marijuana",
   "metadata": {},
   "source": [
    "# Train for 10 epochs"
   ]
  },
  {
   "cell_type": "code",
   "execution_count": null,
   "id": "copyrighted-adjustment",
   "metadata": {},
   "outputs": [],
   "source": [
    "exp.train(11)"
   ]
  },
  {
   "cell_type": "markdown",
   "id": "simple-directory",
   "metadata": {},
   "source": [
    "# Load experiment"
   ]
  },
  {
   "cell_type": "code",
   "execution_count": null,
   "id": "modular-young",
   "metadata": {},
   "outputs": [],
   "source": [
    "import os\n",
    "from experimentator import build_experiment\n",
    "\n",
    "experiment_id = 'latest'   # update with experiment ID\n",
    "folder = os.path.join(os.environ['RESULTS_FOLDER'], \"ballstate\", experiment_id)\n",
    "exp = build_experiment(os.path.join(folder, 'config.py'))"
   ]
  },
  {
   "cell_type": "markdown",
   "id": "alpine-bradley",
   "metadata": {},
   "source": [
    "# Load metrics"
   ]
  },
  {
   "cell_type": "code",
   "execution_count": null,
   "id": "headed-satellite",
   "metadata": {},
   "outputs": [],
   "source": [
    "import numpy as np\n",
    "from matplotlib import pyplot as plt\n",
    "from experimentator import DataCollector\n",
    "\n",
    "dc = DataCollector(os.path.join(folder, \"history.dcp\"))\n",
    "fig, axes = plt.subplots(2, 1, sharex=True)\n",
    "for ax, name, metric, fct in [\n",
    "    (axes[0], \"Loss\",             \"loss\",                   lambda x:x),\n",
    "    (axes[1], \"FLYING Precision\", \"classification_metrics\", lambda x: x['precision'].iloc[1])\n",
    "]:\n",
    "    for subset in [\"training\", \"validation\"]:\n",
    "        label = f\"{subset}_{metric}\"\n",
    "        l = np.array([fct(x) if x is not None else np.nan for x in dc[label, :]])\n",
    "        w = np.where(np.isfinite(l))[0]\n",
    "        ax.plot(w, l[w], label=label, markersize=5, marker='.')\n",
    "        ax.set_title(name)\n",
    "    ax.legend()"
   ]
  },
  {
   "cell_type": "code",
   "execution_count": null,
   "id": "attractive-stevens",
   "metadata": {},
   "outputs": [],
   "source": [
    "# TODO: fix line 2 and 3 inverted\n",
    "for data in dc.history:\n",
    "    for name, fct in [\n",
    "        ('testing_classification_metrics', lambda x:x),\n",
    "        ('testing_confusion_matrix', lambda m: \"\\n\".join([f\"{str(BallState(i))}: \\tprecision = {m[i,i]/np.sum(m[:,i]):.05f} \\trecall = {m[i,i]/np.sum(m[i,:]):.02f}\" for i in range(4)]))\n",
    "    ]:\n",
    "        try:\n",
    "            print(fct(data[name]))\n",
    "        except:\n",
    "            pass\n",
    "    print(\"\")"
   ]
  },
  {
   "cell_type": "code",
   "execution_count": null,
   "id": "active-advisory",
   "metadata": {
    "scrolled": false
   },
   "outputs": [],
   "source": [
    "import seaborn as sn\n",
    "from dataset_utilities.ds.raw_sequences_dataset import BallState\n",
    "print([BallState(i) for i in range(4)])\n",
    "for m in [a for a in dc['testing_confusion_matrix', :] if a is not None]:\n",
    "    for i in range(1,4):\n",
    "        print(f\"{str(BallState(i))}: \\tprecision = {m[i,i]/np.sum(m[:,i]):.05f} \\trecall = {m[i,i]/np.sum(m[i,:]):.02f}\")\n",
    "    ax = plt.figure(figsize=(4,3)).gca()\n",
    "    sn.heatmap(m, annot=True, ax=ax)\n",
    "    ax.set_xlabel(\"pred class\")\n",
    "    ax.set_ylabel(\"true class\")"
   ]
  },
  {
   "cell_type": "markdown",
   "id": "insured-place",
   "metadata": {},
   "source": [
    "# Evaluation"
   ]
  },
  {
   "cell_type": "code",
   "execution_count": null,
   "id": "dirty-security",
   "metadata": {},
   "outputs": [],
   "source": [
    "batch_size = 6\n",
    "its = {subset.name: exp.batch_generator(subset, batch_size=batch_size) for subset in exp.subsets}"
   ]
  },
  {
   "cell_type": "code",
   "execution_count": null,
   "id": "sexual-heritage",
   "metadata": {},
   "outputs": [],
   "source": [
    "from matplotlib import pyplot as plt\n",
    "from experimentator.dataset import collate_fn\n",
    "\n",
    "fig, axes = plt.subplots(len(exp.subsets), batch_size, figsize=(20,10))\n",
    "for i, subset in enumerate(exp.subsets):\n",
    "    keys, batch_input = next(its[subset.name]) # balances batches wrt ball state\n",
    "    batch_output = exp.batch_eval(batch_input)\n",
    "    print(batch_output['batch_output'].numpy())\n",
    "    print(batch_output['batch_target'].numpy())\n",
    "    for j in range(batch_size):\n",
    "        ax = axes[i,j]\n",
    "        ax.imshow(batch_input[\"batch_input_image\"][j])\n",
    "        ax.set_xticks([])\n",
    "        ax.set_yticks([])\n",
    "        true_class = str(BallState(batch_input['batch_ball_state'][j]))\n",
    "        pred_class = str(BallState(np.argmax(batch_output['batch_output'][j])))\n",
    "        if true_class != pred_class:\n",
    "            for spine in ['bottom', 'top', 'right', 'left']:\n",
    "                ax.spines[spine].set_color('red')\n",
    "        ax.set_title(true_class)\n",
    "        for y, text in [\n",
    "            (.9, f\"{true_class}\"),\n",
    "            (.2, f\"{pred_class}\"),\n",
    "            (.1, f\"{np.max(batch_output['batch_output'][j]):.2f}\"),\n",
    "        ]:\n",
    "            ax.text(.05, y, text, horizontalalignment='left', verticalalignment='center', transform=ax.transAxes, color='white', fontsize=12)\n",
    "    axes[i,0].set_ylabel(subset.name)"
   ]
  }
 ],
 "metadata": {
  "kernelspec": {
   "display_name": "Python 3 (ipykernel)",
   "language": "python",
   "name": "python3"
  },
  "language_info": {
   "codemirror_mode": {
    "name": "ipython",
    "version": 3
   },
   "file_extension": ".py",
   "mimetype": "text/x-python",
   "name": "python",
   "nbconvert_exporter": "python",
   "pygments_lexer": "ipython3",
   "version": "3.8.5"
  }
 },
 "nbformat": 4,
 "nbformat_minor": 5
}
