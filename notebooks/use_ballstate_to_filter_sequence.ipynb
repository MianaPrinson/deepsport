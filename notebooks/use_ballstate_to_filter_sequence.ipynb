{
 "cells": [
  {
   "cell_type": "code",
   "execution_count": 1,
   "id": "mysterious-monster",
   "metadata": {},
   "outputs": [
    {
     "data": {
      "text/plain": [
       "True"
      ]
     },
     "execution_count": 1,
     "metadata": {},
     "output_type": "execute_result"
    }
   ],
   "source": [
    "%load_ext autoreload\n",
    "%autoreload 2\n",
    "import dotenv\n",
    "dotenv.load_dotenv()"
   ]
  },
  {
   "cell_type": "code",
   "execution_count": null,
   "id": "swiss-capability",
   "metadata": {},
   "outputs": [
    {
     "name": "stderr",
     "output_type": "stream",
     "text": [
      "WARNING:root:Unoverwritten parameters : ['filename']\n",
      "/home/gva/repositories/dataset_utilities/dataset_utilities/calib.py:5: UserWarning: Deprecated import. use `from deepsport_utilities.calib` instead of `from dataset_utilities.calib`\n",
      "  warnings.warn(\"Deprecated import. use `from deepsport_utilities.calib` instead of `from dataset_utilities.calib`\")\n"
     ]
    },
    {
     "name": "stdout",
     "output_type": "stream",
     "text": [
      "ball_states_dataset.pickle found in /scratch/gva/ball_states_dataset.pickle\n"
     ]
    }
   ],
   "source": [
    "import os\n",
    "from experimentator import build_experiment\n",
    "\n",
    "experiment_id = '20221101_125058.223524'\n",
    "folder = os.path.join(os.environ['RESULTS_FOLDER'], \"ballstate\", experiment_id)\n",
    "exp = build_experiment(os.path.join(folder, 'config.py'))"
   ]
  },
  {
   "cell_type": "code",
   "execution_count": null,
   "id": "distinct-pittsburgh",
   "metadata": {},
   "outputs": [],
   "source": [
    "from mlworkflow import PickledDataset, TransformedDataset\n",
    "from experimentator import find\n",
    "ds = PickledDataset(find(\"evaluation_ball_views_dataset.pickle\"))\n",
    "ds = TransformedDataset(ds, exp.cfg['transforms'](.5))"
   ]
  },
  {
   "cell_type": "code",
   "execution_count": null,
   "id": "loving-richmond",
   "metadata": {},
   "outputs": [],
   "source": [
    "from experimentator.dataset import collate_fn\n",
    "for keys, data in ds.batches(batch_size=16, collate_fn=collate_fn):\n",
    "    print(data.keys())\n",
    "    print(type(data['batch_ball_state'][0]))\n",
    "    break\n",
    "    outputs = exp.predict(data)\n",
    "    print(outputs.keys())\n",
    "    break"
   ]
  },
  {
   "cell_type": "code",
   "execution_count": null,
   "id": "restricted-change",
   "metadata": {},
   "outputs": [],
   "source": [
    "from tasks.ballstate import BallState\n",
    "\n",
    "a = BallState(int(None))\n",
    "print(a)"
   ]
  },
  {
   "cell_type": "code",
   "execution_count": null,
   "id": "capable-crisis",
   "metadata": {},
   "outputs": [],
   "source": [
    "from pprint import pprint\n",
    "pprint(exp.chunk_processors)\n",
    "print(exp.chunk_processors[5].layers.summary())"
   ]
  },
  {
   "cell_type": "code",
   "execution_count": null,
   "id": "presidential-ontario",
   "metadata": {},
   "outputs": [],
   "source": []
  },
  {
   "cell_type": "code",
   "execution_count": null,
   "id": "found-anime",
   "metadata": {},
   "outputs": [],
   "source": []
  },
  {
   "cell_type": "code",
   "execution_count": null,
   "id": "excellent-emission",
   "metadata": {},
   "outputs": [],
   "source": [
    "# TODO\n",
    "# - create 224x224 crops of the raw_sequences_dataset.pickle (from oracle positions)\n",
    "# - run ballstate to detect flying trajectories\n",
    "# - measure quality of trajectories extraction\n",
    "# - run ballsize to measure 3D and compare with GT\n",
    "# - use trajectories to filter 3D and compare with GT\n"
   ]
  },
  {
   "cell_type": "code",
   "execution_count": null,
   "id": "favorite-drawing",
   "metadata": {},
   "outputs": [],
   "source": []
  },
  {
   "cell_type": "code",
   "execution_count": null,
   "id": "floating-injection",
   "metadata": {},
   "outputs": [],
   "source": []
  },
  {
   "cell_type": "code",
   "execution_count": null,
   "id": "perceived-press",
   "metadata": {},
   "outputs": [],
   "source": []
  },
  {
   "cell_type": "code",
   "execution_count": null,
   "id": "broadband-workshop",
   "metadata": {},
   "outputs": [],
   "source": []
  }
 ],
 "metadata": {
  "kernelspec": {
   "display_name": "Python 3 (ipykernel)",
   "language": "python",
   "name": "python3"
  },
  "language_info": {
   "codemirror_mode": {
    "name": "ipython",
    "version": 3
   },
   "file_extension": ".py",
   "mimetype": "text/x-python",
   "name": "python",
   "nbconvert_exporter": "python",
   "pygments_lexer": "ipython3",
   "version": "3.8.5"
  }
 },
 "nbformat": 4,
 "nbformat_minor": 5
}
